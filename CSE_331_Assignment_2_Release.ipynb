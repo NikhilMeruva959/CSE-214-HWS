{
  "nbformat": 4,
  "nbformat_minor": 0,
  "metadata": {
    "colab": {
      "provenance": [],
      "include_colab_link": true
    },
    "kernelspec": {
      "name": "python3",
      "display_name": "Python 3"
    },
    "language_info": {
      "name": "python"
    }
  },
  "cells": [
    {
      "cell_type": "markdown",
      "metadata": {
        "id": "view-in-github",
        "colab_type": "text"
      },
      "source": [
        "<a href=\"https://colab.research.google.com/github/NikhilMeruva959/CSE-214-HWS/blob/master/CSE_331_Assignment_2_Release.ipynb\" target=\"_parent\"><img src=\"https://colab.research.google.com/assets/colab-badge.svg\" alt=\"Open In Colab\"/></a>"
      ]
    },
    {
      "cell_type": "code",
      "execution_count": null,
      "metadata": {
        "id": "G6gALEdg4tNL"
      },
      "outputs": [],
      "source": [
        "import os\n",
        "from Crypto.Protocol.KDF import scrypt\n",
        "from Crypto.Random import get_random_bytes\n",
        "from Crypto.Cipher import AES\n",
        "from base64 import b64decode\n",
        "import json\n",
        "from base64 import b64encode\n",
        "import os.path\n",
        "import hashlib\n",
        "import random\n",
        "import string\n",
        "import sys\n",
        "\n",
        "\n",
        "#\n",
        "def encryptFile(plaintextData,key):\n",
        "    \"\"\"Your code goes\"\"\"\n",
        "    encryptionResults = json.dumps(dict(zip(json_k, json_v)))\n",
        "\n",
        "    return encryptionResults\n",
        "\n",
        "\n",
        "def decryptFile(encryptedJson,key):\n",
        "    \"\"\"Your code goes\"\"\"\n",
        "    return decryptionResults\n",
        "\n",
        "\n",
        "def computerMasterKey(password):\n",
        "    \"\"\"Your code goes here\"\"\"\n",
        "    key = \"\"\"Your code goes here\"\"\"\n",
        "    return key\n",
        "\n",
        "\n",
        "def decryptAndReconstructVault(hashedusername, password):\n",
        "    key = computerMasterKey(password)\n",
        "    magicString = '101010101010101010102020202020202020202030303030303030303030\\n'\n",
        "\n",
        "    with open(hashedusername, \"r\") as file:\n",
        "        fileread = file.read()\n",
        "    file.close()\n",
        "    decryptedresults = decryptFile(fileread,key)\n",
        "    decodedContent = decryptedresults.decode('utf-8')\n",
        "    \"\"\"Your code goes here\"\"\"\n",
        "    passwordvault = []\n",
        "    for line in decodedContent.splitlines():\n",
        "        passwordvault.append([line])\n",
        "    return passwordvault\n",
        "\n",
        "def checkVaultExistenceOrCreate():\n",
        "    passwordvault = []\n",
        "    while True:\n",
        "        username = input('enter vault username: ')\n",
        "        password = input('enter vault password: ')\n",
        "\n",
        "        if username and password:\n",
        "            break\n",
        "\n",
        "    hashedusername = \"\"\"Your code goes here\"\"\"\n",
        "    if (os.path.exists(hashedusername)):\n",
        "        passwordvault = decryptAndReconstructVault(hashedusername,password)\n",
        "\n",
        "    else:\n",
        "        print(\"Password valut not found, creating a new one\")\n",
        "        pass\n",
        "\n",
        "    return username, password, hashedusername, passwordvault\n",
        "\n",
        "def generatePassword():\n",
        "    \"\"\"Your code goes here\"\"\"\n",
        "    return result\n",
        "\n",
        "\n",
        "def AddPassword(passwordvault):\n",
        "    \"\"\"Your code goes here\"\"\"\n",
        "    print('Record Entry added')\n",
        "\n",
        "def CreatePassword(passwordvault):\n",
        "    \"\"\"Your code goes here\"\"\"\n",
        "    print('Record Entry added')\n",
        "\n",
        "def UpdatePassword(passwordvault):\n",
        "    \"\"\"Your code goes here\"\"\"\n",
        "    print('Record Entry Updated')\n",
        "\n",
        "def LookupPassword(passwordvault):\n",
        "    \"\"\"Your code goes here\"\"\"\n",
        "\n",
        "def DeletePassword(passwordvault):\n",
        "    \"\"\"Your code goes here\"\"\"\n",
        "    print('Record Entry Deleted')\n",
        "\n",
        "def displayVault(passwordvault):\n",
        "    print(passwordvault)\n",
        "\n",
        "def EncryptVaultAndSave(passwordvault, password, hashedusername):\n",
        "    writeString = ''\n",
        "    magicString = '101010101010101010102020202020202020202030303030303030303030\\n'\n",
        "    writeString + magicString\n",
        "    key = computerMasterKey(password)\n",
        "    finalString = ''\n",
        "    finalString = finalString + magicString\n",
        "\n",
        "    for i in passwordvault:\n",
        "        record = i[0] + '\\n'\n",
        "        finalString = finalString + record\n",
        "\n",
        "    finaldbBytes = bytes(finalString, 'utf-8')\n",
        "    finaldbBytesEncrypted = encryptFile(finaldbBytes,key)\n",
        "\n",
        "\n",
        "    with open(hashedusername, \"w\") as file:\n",
        "        file.write(finaldbBytesEncrypted)\n",
        "    file.close()\n",
        "    print(\"Password Vault encrypted and saved to file\")\n",
        "\n",
        "\n",
        "\n",
        "def main():\n",
        "    username, password, hashedusername, passwordvault = checkVaultExistenceOrCreate()\n",
        "    while(True):\n",
        "\n",
        "        print('Password Management')\n",
        "        print('-----------------------')\n",
        "        print('-----------------------')\n",
        "        print('1 - Add password')\n",
        "        print('2 - Create password')\n",
        "        print('3 - Update password')\n",
        "        print('4 - Lookup password')\n",
        "        print('5 - Delete password')\n",
        "        print('6 - Display Vault')\n",
        "        print('7 - Save Vault and Quit')\n",
        "        choice = input('')\n",
        "\n",
        "\n",
        "        if choice == ('1'):\n",
        "            AddPassword(passwordvault)\n",
        "\n",
        "        elif choice == ('2'):\n",
        "            CreatePassword(passwordvault)\n",
        "\n",
        "        elif choice == ('3'):\n",
        "            UpdatePassword(passwordvault)\n",
        "\n",
        "        elif choice == ('4'):\n",
        "            LookupPassword(passwordvault)\n",
        "\n",
        "        elif choice == ('5'):\n",
        "            DeletePassword(passwordvault)\n",
        "        elif choice == ('6'):\n",
        "            displayVault(passwordvault)\n",
        "\n",
        "        elif choice == ('7'):\n",
        "            EncryptVaultAndSave(passwordvault, password, hashedusername)\n",
        "            quit()\n",
        "        else:\n",
        "            print('Invalid choice please try again')"
      ]
    },
    {
      "cell_type": "markdown",
      "source": [
        "# New Section"
      ],
      "metadata": {
        "id": "ANirxkEXCs5R"
      }
    },
    {
      "cell_type": "code",
      "source": [
        "main()"
      ],
      "metadata": {
        "id": "j3gS4Cl54yQf"
      },
      "execution_count": null,
      "outputs": []
    },
    {
      "cell_type": "code",
      "source": [
        "passwordvault = ['a:a:a','b:a:c','c:a:s']\n",
        "\n",
        "for i in passwordvault:\n",
        "    record = i + '\\n'\n",
        "    print(record)"
      ],
      "metadata": {
        "colab": {
          "base_uri": "https://localhost:8080/"
        },
        "id": "ReY_ksWitg-X",
        "outputId": "640af20f-21ba-4c7f-a6e4-bd4ca3ccd4d1"
      },
      "execution_count": null,
      "outputs": [
        {
          "output_type": "stream",
          "name": "stdout",
          "text": [
            "a:a:a\n",
            "\n",
            "b:a:c\n",
            "\n",
            "c:a:s\n",
            "\n"
          ]
        }
      ]
    },
    {
      "cell_type": "code",
      "source": [
        "def EncryptVaultAndSave(passwordvault, password, hashedusername):\n",
        "    writeString = ''\n",
        "    magicString = '101010101010101010102020202020202020202030303030303030303030\\n'\n",
        "    writeString + magicString\n",
        "    key = computerMasterKey(password)\n",
        "    finalString = ''\n",
        "    finalString = finalString + magicString\n",
        "\n",
        "    for i in passwordvault:\n",
        "        record = i[0] + '\\n'\n",
        "        finalString = finalString + record"
      ],
      "metadata": {
        "id": "O6pUXlyo48ZR"
      },
      "execution_count": null,
      "outputs": []
    }
  ]
}